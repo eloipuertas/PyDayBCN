{
 "cells": [
  {
   "cell_type": "markdown",
   "metadata": {
    "slideshow": {
     "slide_type": "slide"
    }
   },
   "source": [
    "Taller Introducció a la programació amb Python\n",
    "===============================================\n",
    "<p>\n",
    "\n",
    "<H3>Eloi Puertas i Prats </H3>\n",
    "Facultat Matemàtiques i Informàtica  <BR>\n",
    "Universitat Barcelona <BR>\n",
    "\n"
   ]
  },
  {
   "cell_type": "markdown",
   "metadata": {
    "slideshow": {
     "slide_type": "slide"
    }
   },
   "source": [
    "Què és programar\n",
    "================\n",
    "\n",
    "![Recipt](sketchProgramacio.png)\n",
    "\n",
    "\n",
    "\n"
   ]
  },
  {
   "cell_type": "markdown",
   "metadata": {
    "slideshow": {
     "slide_type": "subslide"
    }
   },
   "source": [
    "Entrades\n",
    "========\n",
    "\n",
    "Entrades són dades digitals de les que podem disposar, ja sigui entrades per un usuari, o des de qualsevol tipus de dispositiu o des del núvol.\n",
    "\n",
    "* Imatges.\n",
    "* Text.\n",
    "* Números.\n",
    "* So.\n",
    "* Fitxers."
   ]
  },
  {
   "cell_type": "markdown",
   "metadata": {
    "slideshow": {
     "slide_type": "subslide"
    }
   },
   "source": [
    "Sortides\n",
    "========\n",
    "\n",
    "Resultat d’aplicar el nostre programa (procés) sobre les entrades que li hem passat.\n",
    "\n",
    "* una dada digital \n",
    "* com una sortida per pantalla\n",
    "* un fitxer \n",
    "* una imatge\n",
    "* un correu electrònic\n",
    "* un twit"
   ]
  },
  {
   "cell_type": "markdown",
   "metadata": {
    "slideshow": {
     "slide_type": "subslide"
    }
   },
   "source": [
    "Lògica del programa\n",
    "===================\n",
    "La lògica del programa és el que manipula l’entrada per tal d’obtenir la sortida desitjada.\n",
    "\n",
    "![Loògica](input-output.gif)\n"
   ]
  },
  {
   "cell_type": "markdown",
   "metadata": {
    "slideshow": {
     "slide_type": "fragment"
    }
   },
   "source": [
    "* Es fa mitjançant la creació  d’un **algoritme**\n",
    "    *(conjunt d’ordres que s’han de realitzar per a aconseguir la sortida)*\n",
    "* Per a poder implementar l’algoritme, és necessari codificar-lo amb un **Llenguatge de Programació**\n",
    "\n",
    "* Un cop escrit el codi, s’ha d’executar sobre les entrades i comprovar que la sortida és la desitjada (**TEST**)"
   ]
  },
  {
   "cell_type": "markdown",
   "metadata": {
    "slideshow": {
     "slide_type": "slide"
    }
   },
   "source": [
    "Llenguatge de programació: Python\n",
    "================================\n",
    "![python](python.jpg)\n",
    "\n",
    "![monty python](montypython.jpeg)\n"
   ]
  },
  {
   "cell_type": "markdown",
   "metadata": {
    "slideshow": {
     "slide_type": "subslide"
    }
   },
   "source": [
    "<H1> Versions\n",
    "\n",
    "<H3>\n",
    "[Python 2.7 VS Python 3](https://wiki.python.org/moin/Python2orPython3)\n",
    "\n",
    "* Python 2.7 s'està quedant obsolet, Python 3 és la versió que està adoptant la gent que comença amb python\n",
    "* Codi 2.7 no te compatibilitat amb 3.0, hi ha canvis subtils"
   ]
  },
  {
   "cell_type": "markdown",
   "metadata": {
    "slideshow": {
     "slide_type": "subslide"
    }
   },
   "source": [
    "<H1> Característiques del Python: </H1>\n",
    "\n",
    " Python és un llenguatge de programació que és simple i alhora potent. Permet concentrarte amb la solució del problema  sense haver de concentrar-te amb la sintaxis i estrucutra del llenguatge de programació en sí.\n",
    " \n",
    "\n",
    "* Simple\n",
    "\n",
    "* Fàcil d'aprendre\n",
    "\n",
    "* Lliure i de codi obert\n",
    "\n",
    "* D'alt nivell\n",
    "\n",
    "* Portable\n",
    "\n",
    "* Iterpretat\n",
    "\n",
    "* Extensible\n",
    "\n",
    "* i moltes llibraries\n",
    "\n"
   ]
  },
  {
   "cell_type": "markdown",
   "metadata": {
    "slideshow": {
     "slide_type": "slide"
    }
   },
   "source": [
    "Execució d'un programa\n",
    "=======================\n",
    "\n",
    "> python\n",
    "\n",
    "``` \n",
    "    Python 2.7.11 |Anaconda 4.0.0 (x86_64)| (default, Dec  6 2015, 18:57:58) \n",
    "    [GCC 4.2.1 (Apple Inc. build 5577)] on darwin\n",
    "    Type \"help\", \"copyright\", \"credits\" or \"license\" for more information.\n",
    "    Anaconda is brought to you by Continuum Analytics.\n",
    "    Please check out: http://continuum.io/thanks and https://anaconda.org\n",
    "    >>>  print (\"hello\")\n",
    "    hello\n",
    "    >>> exit()\n",
    "```\n"
   ]
  },
  {
   "cell_type": "markdown",
   "metadata": {
    "slideshow": {
     "slide_type": "slide"
    }
   },
   "source": [
    "Editor de codi\n",
    "===============\n",
    " <h2> Sublime Text </h2>\n",
    " \n",
    " ![sublime](sublime.jpeg)\n",
    " https://www.sublimetext.com/\n",
    " \n",
    " \n",
    "  <h2>  Pycharm </h2>\n",
    " \n",
    "![sublime](pyCharm.jpeg)\n",
    " \n",
    " https://www.jetbrains.com/pycharm-edu/\n"
   ]
  },
  {
   "cell_type": "markdown",
   "metadata": {
    "slideshow": {
     "slide_type": "slide"
    }
   },
   "source": [
    "Primer programa amb l'editor\n",
    "============================\n",
    "\n",
    "```File -> New File```\n",
    "\n",
    "```File -> Save -> prova.py``` \n",
    "\n",
    "```Tools -> Build ```"
   ]
  },
  {
   "cell_type": "code",
   "execution_count": 1,
   "metadata": {
    "slideshow": {
     "slide_type": "fragment"
    }
   },
   "outputs": [
    {
     "name": "stdout",
     "output_type": "stream",
     "text": [
      "Hello World\n"
     ]
    }
   ],
   "source": [
    "print(\"Hello World\")"
   ]
  },
  {
   "cell_type": "markdown",
   "metadata": {
    "slideshow": {
     "slide_type": "fragment"
    }
   },
   "source": [
    "> python prova.py"
   ]
  },
  {
   "cell_type": "markdown",
   "metadata": {
    "slideshow": {
     "slide_type": "slide"
    }
   },
   "source": [
    "Primers passos en Python\n",
    "========================\n",
    "\n",
    "A partir d'ara, anirem seguint un exemple per a introduir les instruccions bàsiques en Python.\n",
    "\n",
    "Creeu un fitxer nou anomenat **aeroport.py** i aneu-hi escrivint el codi de més avall. Recordeu de fer el **build** cada cop. \n",
    "\n",
    "En el codi hi trobereu comentaris. Els comentaris en Python comencen amb el símbol \"#\" (hash en anglès). Tot el que vingui a continuació no afectarà el codi, ni s'executarà, simplement és per a afegir-hi algun tipus d'informació addicional al codi per a algú que s'ho hagi de llegir (normalment un mateix) \n"
   ]
  },
  {
   "cell_type": "markdown",
   "metadata": {
    "slideshow": {
     "slide_type": "subslide"
    }
   },
   "source": [
    "Les variables\n",
    "=============\n",
    "Una variable és com un contenidor a on pots guardar valors. Les variables ens seran útils per guardar resultats intermitjos, així com per estalviar-nos repetir càlculs o escriure. \n",
    "En Python les variables poden ser de diferent **tipus**, però no cal especificar quan les creem, el propi Python infereix de quin tipus són. Per declarar una variable doncs, només cal posar-li un **nom**, l'operador d'assignació **=** i el **valor** inicial de la variable.\n",
    "\n"
   ]
  },
  {
   "cell_type": "code",
   "execution_count": 2,
   "metadata": {
    "slideshow": {
     "slide_type": "fragment"
    }
   },
   "outputs": [],
   "source": [
    "nom_aeroport = \"Barcelona\" #variable tipus String\n",
    "numTerminal = 1 #variable tipus sencer\n",
    "graus = 23.5  #variable tipus flotant\n",
    "obert = True #variable boolean"
   ]
  },
  {
   "cell_type": "markdown",
   "metadata": {
    "slideshow": {
     "slide_type": "subslide"
    }
   },
   "source": [
    "Per utilitzar el **valor** d'una variable només cal cridar-la pel seu nom. Per exemple per afegir el contingut d'una variable a un texte, podem usar l'operador + per concatenar-los. \n"
   ]
  },
  {
   "cell_type": "code",
   "execution_count": 3,
   "metadata": {
    "slideshow": {
     "slide_type": "fragment"
    }
   },
   "outputs": [
    {
     "name": "stdout",
     "output_type": "stream",
     "text": [
      "Benvingut a l'Aeroport de Barcelona\n"
     ]
    }
   ],
   "source": [
    "print (\"Benvingut a l'Aeroport de \" + nom_aeroport)"
   ]
  },
  {
   "cell_type": "markdown",
   "metadata": {
    "slideshow": {
     "slide_type": "subslide"
    }
   },
   "source": [
    "Fixeu-vos però que passa si s'intenta concatenar tipus diferents!"
   ]
  },
  {
   "cell_type": "code",
   "execution_count": 16,
   "metadata": {
    "slideshow": {
     "slide_type": "fragment"
    }
   },
   "outputs": [
    {
     "ename": "TypeError",
     "evalue": "cannot concatenate 'str' and 'int' objects",
     "output_type": "error",
     "traceback": [
      "\u001b[0;31m---------------------------------------------------------------------------\u001b[0m",
      "\u001b[0;31mTypeError\u001b[0m                                 Traceback (most recent call last)",
      "\u001b[0;32m<ipython-input-16-707e94abf489>\u001b[0m in \u001b[0;36m<module>\u001b[0;34m()\u001b[0m\n\u001b[0;32m----> 1\u001b[0;31m \u001b[0;32mprint\u001b[0m \u001b[0;34m(\u001b[0m\u001b[0;34m\"Us trobeu a la Terminal \"\u001b[0m \u001b[0;34m+\u001b[0m \u001b[0mnumTerminal\u001b[0m \u001b[0;34m+\u001b[0m \u001b[0;34m\" de l'Aeroport de \"\u001b[0m \u001b[0;34m+\u001b[0m \u001b[0mnom_aeroport\u001b[0m\u001b[0;34m)\u001b[0m\u001b[0;34m\u001b[0m\u001b[0m\n\u001b[0m",
      "\u001b[0;31mTypeError\u001b[0m: cannot concatenate 'str' and 'int' objects"
     ]
    }
   ],
   "source": [
    "print (\"Us trobeu a la Terminal \" + numTerminal + \" de l'Aeroport de \" + nom_aeroport)"
   ]
  },
  {
   "cell_type": "markdown",
   "metadata": {
    "slideshow": {
     "slide_type": "subslide"
    }
   },
   "source": [
    "Cal canviar el tipus de variable a String abans de fer la concatenació:"
   ]
  },
  {
   "cell_type": "code",
   "execution_count": 4,
   "metadata": {
    "slideshow": {
     "slide_type": "fragment"
    }
   },
   "outputs": [
    {
     "name": "stdout",
     "output_type": "stream",
     "text": [
      "Us trobeu a la Terminal 1 de l'Aeroport de Barcelona\n",
      "La temperatura ambient és de 23.5 graus\n"
     ]
    }
   ],
   "source": [
    "print (\"Us trobeu a la Terminal \" + str(numTerminal) + \" de l'Aeroport de \" + nom_aeroport)\n",
    "print (\"La temperatura ambient és de \"+ str(graus) + \" graus\" )"
   ]
  },
  {
   "cell_type": "markdown",
   "metadata": {
    "slideshow": {
     "slide_type": "subslide"
    }
   },
   "source": [
    "Operacions aritmètiques\n",
    "======================\n",
    "\n",
    "Amb les variables de tipus numèric, (int i floats) podem operar amb els operadors aritmètics clàssics, suma +, resta - , multiplació * , divisió /.\n",
    "\n",
    "Tingueu en compte però que si feu operacions entre sencers els resultats seran sencers (*en Python 2.7*) aneu amb compte  amb les divisions! Si combineu floats i ints el resultat serà un float.  "
   ]
  },
  {
   "cell_type": "code",
   "execution_count": 18,
   "metadata": {
    "slideshow": {
     "slide_type": "fragment"
    }
   },
   "outputs": [
    {
     "name": "stdout",
     "output_type": "stream",
     "text": [
      "74.30000000000001\n",
      "graus Cº:23.5\n",
      "graus Fº:74.30000000000001\n"
     ]
    }
   ],
   "source": [
    "grausFaren = (graus * (9/5))  + 32  # Atenció a fer la divisió sencera o coma flotant\n",
    "print (\"graus Cº:\" + str(graus))\n",
    "print (\"graus Fº:\" + str(grausFaren))\n",
    "\n"
   ]
  },
  {
   "cell_type": "markdown",
   "metadata": {
    "slideshow": {
     "slide_type": "subslide"
    }
   },
   "source": [
    "Condicionals\n",
    "=============\n",
    "Un condicional (`if`) és una **estructura de control de flux **. Les estructures de control de flux poden englobar més d'una sentència. És important doncs saber on comença i on acaba aquest bloc. En Python es fa mitjançant la identació, és a dir, el bloc queda delimitat perque les línies que en formen part tenen el mateix nivell de sagnat.\n",
    "\n",
    "El condicional Permet que s'executi una sentència o una altre segons una **condició** donada. Una condició ha de ser una operació que dongui com a resultat un valor cert `True` o  false `False`"
   ]
  },
  {
   "cell_type": "code",
   "execution_count": 19,
   "metadata": {
    "slideshow": {
     "slide_type": "fragment"
    }
   },
   "outputs": [
    {
     "name": "stdout",
     "output_type": "stream",
     "text": [
      "L'Aeroport de Barcelona es troba OBERT\n",
      "Us trobeu a la Terminal 1 de l'Aeroport de Barcelona\n",
      "La temperatura ambient és de 23.5 graus\n"
     ]
    }
   ],
   "source": [
    "obert = True #variable boolean\n",
    "missatgeEstat = \"L'Aeroport de \" + nom_aeroport + \" es troba \"\n",
    "if obert:  #si obert és cert s'executarà el bloc\n",
    "    print (missatgeEstat + \"OBERT\") #Atenció amb l'identació!\n",
    "    print (\"Us trobeu a la Terminal \" + str(numTerminal) + \" de l'Aeroport de \" + nom_aeroport)\n",
    "print (\"La temperatura ambient és de \"+ str(graus) + \" graus\" ) #s'executarà tant si és obert com tancat\n"
   ]
  },
  {
   "cell_type": "markdown",
   "metadata": {
    "slideshow": {
     "slide_type": "subslide"
    }
   },
   "source": [
    "L'estructura condicional es pot enriquir amb un `else` per tal de fer una estructura exclusiva, o una cosa o l'altra"
   ]
  },
  {
   "cell_type": "code",
   "execution_count": 20,
   "metadata": {
    "slideshow": {
     "slide_type": "fragment"
    }
   },
   "outputs": [
    {
     "name": "stdout",
     "output_type": "stream",
     "text": [
      "L'Aeroport de Barcelona es troba TANCAT\n",
      "La temperatura ambient és de 23.5 graus\n"
     ]
    }
   ],
   "source": [
    "obert = False #variable boolean\n",
    "missatgeEstat = \"L'Aeroport de \" + nom_aeroport + \" es troba \"\n",
    "\n",
    "if obert:  #si obert és cert s'executarà el bloc\n",
    "    print (missatgeEstat + \"OBERT\") #Atenció amb l'identació!\n",
    "    print (\"Us trobeu a la Terminal \" + str(numTerminal) + \" de l'Aeroport de \" + nom_aeroport)\n",
    "else: #si obert és cert s'executarà el bloc\n",
    "    print (missatgeEstat + \"TANCAT\")    \n",
    "print (\"La temperatura ambient és de \"+ str(graus) + \" graus\" ) #s'executarà tant si és obert com tancat\n"
   ]
  },
  {
   "cell_type": "markdown",
   "metadata": {
    "slideshow": {
     "slide_type": "subslide"
    }
   },
   "source": [
    "Si treballem amb dades numèriques podem fer comparacions booleanes com a condició de l'`if`. Per això fem servir els operadors booleans, més gran que (>), més petit que (<), més gran o igual (>=), més petit o igual (<=), igual (==), o diferent (!=). A més a més podem usar els operadors lògics `and`, `or` per combinar els operadors booleans.\n",
    "\n",
    "Quan treballem en intarvals solem tenir vàries opcions, per aquests casos pot ser útil la sentència `elif`, que seria l'equivalent a obrir un nou `if` dins de l'`else`. "
   ]
  },
  {
   "cell_type": "code",
   "execution_count": 21,
   "metadata": {
    "slideshow": {
     "slide_type": "fragment"
    }
   },
   "outputs": [
    {
     "name": "stdout",
     "output_type": "stream",
     "text": [
      "Quina calda!\n"
     ]
    }
   ],
   "source": [
    "missatgeTemp = \"\" #per a inicialitzar una variable String amb una cadena buida\n",
    "graus = 30  #variable tipus flotant\n",
    "if (graus <= 10 ):\n",
    "    missatgeTemp = \"Fa molt de fred\"\n",
    "elif (graus>10 and graus <= 18 ) :\n",
    "     missatgeTemp = \"Fa fresqueta\"\n",
    "elif (graus > 18 and graus <= 24) :\n",
    "     missatgeTemp = \"S'hi està prou bé\"\n",
    "elif (graus > 24 and graus <= 29) : \n",
    "    missatgeTemp = \"Comença a fer calor\"\n",
    "else:\n",
    "    missatgeTemp = \"Quina calda!\"\n",
    "print (missatgeTemp)"
   ]
  },
  {
   "cell_type": "markdown",
   "metadata": {
    "slideshow": {
     "slide_type": "subslide"
    }
   },
   "source": [
    "Per comparar strings, ho podem fer amb l'operador `is`, per dir si és igual, o el  `is not` per dir que es diferent.\n"
   ]
  },
  {
   "cell_type": "code",
   "execution_count": 23,
   "metadata": {
    "slideshow": {
     "slide_type": "fragment"
    }
   },
   "outputs": [
    {
     "name": "stdout",
     "output_type": "stream",
     "text": [
      "Barcelona (El Prat)\n"
     ]
    }
   ],
   "source": [
    "nom_aeroport = \"Barcelona\"\n",
    "if (nom_aeroport is \"Barcelona\"):\n",
    "    nom_aeroport = nom_aeroport + \" (El Prat)\"\n",
    "print (nom_aeroport)"
   ]
  },
  {
   "cell_type": "markdown",
   "metadata": {
    "slideshow": {
     "slide_type": "subslide"
    }
   },
   "source": [
    "BUCLES\n",
    "======\n",
    "A continuació, veurem una altre estructura de flux bàsica, els **bucles**.\n",
    "\n",
    "En Python tenim un tipus de bucles que s'anomenen **for each**. En aquest tipus de bucles el que es fa és iterar sobre una sequència de valors, mentre quedin valors. A més, es disposa d'una variable en la qual es va guardant el valor actual de la seqüència.  \n",
    "\n",
    "Si volem repetir una sentència un nombre de vegades, haurem d'usar la funció **range** per tal d'obtenir una seqüència de nombres. Cal notar però que per defecte es comença pel nombre 0 i s'acaba amb el nombre menys 1."
   ]
  },
  {
   "cell_type": "code",
   "execution_count": 24,
   "metadata": {
    "slideshow": {
     "slide_type": "fragment"
    }
   },
   "outputs": [
    {
     "name": "stdout",
     "output_type": "stream",
     "text": [
      "Aeroport Barcelona (El Prat)\n",
      "Terminal 0:\n",
      "Terminal 1:\n",
      "Terminal 2:\n"
     ]
    }
   ],
   "source": [
    "num_terminals = 3\n",
    "print (\"Aeroport \" + nom_aeroport)\n",
    "for i in range(num_terminals): #funcio range ens dona una seqüència entr 0 i num_terminal-1\n",
    "    print (\"Terminal \" + str(i) + \":\")"
   ]
  },
  {
   "cell_type": "markdown",
   "metadata": {
    "slideshow": {
     "slide_type": "subslide"
    }
   },
   "source": [
    "A la funció range li podem passar des d'on volem començar la seqüencia com a primer paràmetre i fins a on volem arribar com a segon:"
   ]
  },
  {
   "cell_type": "code",
   "execution_count": 25,
   "metadata": {
    "slideshow": {
     "slide_type": "fragment"
    }
   },
   "outputs": [
    {
     "name": "stdout",
     "output_type": "stream",
     "text": [
      "Aeroport Barcelona (El Prat)\n",
      "Terminal 1:\n",
      "Terminal 2:\n",
      "Terminal 3:\n"
     ]
    }
   ],
   "source": [
    "num_terminals = 3\n",
    "print (\"Aeroport \" + nom_aeroport)\n",
    "for i in range(1,num_terminals+1): #funcio range ens dona una seqüència entr 0 i num_terminal-1\n",
    "    print (\"Terminal \" + str(i) + \":\")"
   ]
  },
  {
   "cell_type": "markdown",
   "metadata": {
    "slideshow": {
     "slide_type": "subslide"
    }
   },
   "source": [
    "A vegades ens fa falta iterar sobre dues seqüències a l'hora. Per exemple quan voleu recòrrer tots els elements d'una taula de valors que conté n columnes i m files. Voldríem poder accedir a cada una de les files per cada columna. Per fer això fem servir dos bucles, aniuat un dins de l'altre. El bloc que es repeteix és el mateix, però és repetirà n X m vegades. Fixeu-vos però que disposarem de dues variables índex, la que ens marca l'actual fila i l'actual columna."
   ]
  },
  {
   "cell_type": "code",
   "execution_count": 26,
   "metadata": {
    "slideshow": {
     "slide_type": "fragment"
    }
   },
   "outputs": [
    {
     "name": "stdout",
     "output_type": "stream",
     "text": [
      "Aeroport Barcelona (El Prat)\n",
      "Terminal 1: porta: 1\n",
      "Terminal 1: porta: 2\n",
      "Terminal 1: porta: 3\n",
      "Terminal 1: porta: 4\n",
      "Terminal 1: porta: 5\n",
      "Terminal 2: porta: 1\n",
      "Terminal 2: porta: 2\n",
      "Terminal 2: porta: 3\n",
      "Terminal 2: porta: 4\n",
      "Terminal 2: porta: 5\n",
      "Terminal 3: porta: 1\n",
      "Terminal 3: porta: 2\n",
      "Terminal 3: porta: 3\n",
      "Terminal 3: porta: 4\n",
      "Terminal 3: porta: 5\n"
     ]
    }
   ],
   "source": [
    "num_terminals = 3\n",
    "num_portes = 5\n",
    "print (\"Aeroport \" + nom_aeroport)\n",
    "\n",
    "for terminal in range(1,num_terminals+1): #funcio range ens dona una seqüència entr 0 i num_terminal-1\n",
    "    for porta in range(1,num_portes+1):\n",
    "        print (\"Terminal \" + str(terminal) + \": porta: \" + str(porta))"
   ]
  },
  {
   "cell_type": "markdown",
   "metadata": {
    "slideshow": {
     "slide_type": "subslide"
    }
   },
   "source": [
    "Un altre tipus de bucle és el mentres **while**. En aquest cas el bucle s'anirà executant mentres la condició sigui certa. En el moment en que la condició deixi de ser certa es surt del bucle. Cal vigilar que realment es dongui la condició de sortir del bucle, en cas contrari entraríem en un bucle infinit i només en podríem sortir cancelant l'execució del programa.  \n",
    "\n",
    "És habitual fer dins d'un bucle una variable que es vagi actualitzant a cada iteració i que aquesta sigui utilitzada per la condició del bucle. En aquests casos s'ha de vigilar molt de caure en un bucle infinit!"
   ]
  },
  {
   "cell_type": "code",
   "execution_count": 28,
   "metadata": {
    "slideshow": {
     "slide_type": "fragment"
    }
   },
   "outputs": [
    {
     "name": "stdout",
     "output_type": "stream",
     "text": [
      "Temperatura: 5\n",
      "Temperatura: 10\n",
      "Temperatura: 15\n",
      "Temperatura: 20\n",
      "Temperatura: 25\n"
     ]
    }
   ],
   "source": [
    "graus = 0\n",
    "while (graus <25):\n",
    "    graus = graus + 5\n",
    "    print (\"Temperatura: \" + str(graus))"
   ]
  },
  {
   "cell_type": "markdown",
   "metadata": {
    "slideshow": {
     "slide_type": "subslide"
    }
   },
   "source": [
    "Llistes\n",
    "=======\n",
    "\n",
    "Les llistes és un **estructura de dades** que ens permet guardar sota un mateix nom un conjunt de variables. \n",
    "Les llistes en Python poden contenir variables de diferent tipus. Es poden fer servir tant per guardar una **col·lecció d'elements**, com per a guardar un **registre** amb diferents dades.\n",
    "\n",
    "Les llistes es declaren usant claudàtors []"
   ]
  },
  {
   "cell_type": "code",
   "execution_count": 30,
   "metadata": {
    "slideshow": {
     "slide_type": "fragment"
    }
   },
   "outputs": [
    {
     "name": "stdout",
     "output_type": "stream",
     "text": [
      "['BCN', 'MAD', 'NYC']\n"
     ]
    }
   ],
   "source": [
    "llista_codi_aeroport = [\"BCN\", \"MAD\", \"NYC\"]\n",
    "print (llista_codi_aeroport)"
   ]
  },
  {
   "cell_type": "markdown",
   "metadata": {
    "slideshow": {
     "slide_type": "subslide"
    }
   },
   "source": [
    "Per afegir un valor a una llista és fa servir el mètode `append`. Per a cridar un mètode sobre una variable es fa mitjançant un punt i a continuació el nom del mètode."
   ]
  },
  {
   "cell_type": "code",
   "execution_count": 31,
   "metadata": {
    "slideshow": {
     "slide_type": "fragment"
    }
   },
   "outputs": [
    {
     "name": "stdout",
     "output_type": "stream",
     "text": [
      "['BCN', 'MAD', 'NYC', 'LPA']\n"
     ]
    }
   ],
   "source": [
    "llista_codi_aeroport.append(\"LPA\")\n",
    "print (llista_codi_aeroport)"
   ]
  },
  {
   "cell_type": "markdown",
   "metadata": {
    "slideshow": {
     "slide_type": "subslide"
    }
   },
   "source": [
    "Per a recuperar un element de la llista, només cal indicar el seu índex entre claudàtors. Tingeu en compte que el primer índex és el **0** i l'últim **n-1** !!!!!"
   ]
  },
  {
   "cell_type": "code",
   "execution_count": 32,
   "metadata": {
    "slideshow": {
     "slide_type": "fragment"
    }
   },
   "outputs": [
    {
     "name": "stdout",
     "output_type": "stream",
     "text": [
      "BCN\n"
     ]
    }
   ],
   "source": [
    "print (llista_codi_aeroport[0])"
   ]
  },
  {
   "cell_type": "markdown",
   "metadata": {
    "slideshow": {
     "slide_type": "fragment"
    }
   },
   "source": [
    "Si ens passem d'índex, el Python ens donarà un error.\n",
    "Podem saber el nombre d'elements de la llista amb la sentència **len**"
   ]
  },
  {
   "cell_type": "code",
   "execution_count": 87,
   "metadata": {
    "slideshow": {
     "slide_type": "fragment"
    }
   },
   "outputs": [
    {
     "name": "stdout",
     "output_type": "stream",
     "text": [
      "4\n"
     ]
    },
    {
     "ename": "IndexError",
     "evalue": "list index out of range",
     "output_type": "error",
     "traceback": [
      "\u001b[0;31m---------------------------------------------------------------------------\u001b[0m",
      "\u001b[0;31mIndexError\u001b[0m                                Traceback (most recent call last)",
      "\u001b[0;32m<ipython-input-87-cf40186e5651>\u001b[0m in \u001b[0;36m<module>\u001b[0;34m()\u001b[0m\n\u001b[1;32m      1\u001b[0m \u001b[0;32mprint\u001b[0m \u001b[0mlen\u001b[0m\u001b[0;34m(\u001b[0m\u001b[0mllista_codi_aeroport\u001b[0m\u001b[0;34m)\u001b[0m\u001b[0;34m\u001b[0m\u001b[0m\n\u001b[0;32m----> 2\u001b[0;31m \u001b[0;32mprint\u001b[0m \u001b[0mllista_codi_aeroport\u001b[0m\u001b[0;34m[\u001b[0m\u001b[0;36m4\u001b[0m\u001b[0;34m]\u001b[0m\u001b[0;34m\u001b[0m\u001b[0m\n\u001b[0m",
      "\u001b[0;31mIndexError\u001b[0m: list index out of range"
     ]
    }
   ],
   "source": [
    "print len(llista_codi_aeroport)\n",
    "print llista_codi_aeroport[4]\n"
   ]
  },
  {
   "cell_type": "markdown",
   "metadata": {
    "slideshow": {
     "slide_type": "subslide"
    }
   },
   "source": [
    "Per esborrar un element de la llista, es pot fer usant la sentència `del`\n"
   ]
  },
  {
   "cell_type": "code",
   "execution_count": 105,
   "metadata": {
    "slideshow": {
     "slide_type": "fragment"
    }
   },
   "outputs": [
    {
     "name": "stdout",
     "output_type": "stream",
     "text": [
      "['BCN', 'MAD', 'NYC']\n"
     ]
    }
   ],
   "source": [
    "del llista_codi_aeroport[3]\n",
    "print llista_codi_aeroport"
   ]
  },
  {
   "cell_type": "markdown",
   "metadata": {
    "slideshow": {
     "slide_type": "subslide"
    }
   },
   "source": [
    "Per recórrer tots els ítems d'una llista podem usar el bucle **for** que hem vist abans\n"
   ]
  },
  {
   "cell_type": "code",
   "execution_count": 107,
   "metadata": {
    "slideshow": {
     "slide_type": "fragment"
    }
   },
   "outputs": [
    {
     "name": "stdout",
     "output_type": "stream",
     "text": [
      "Aeroport : BCN\n",
      "Aeroport : MAD\n",
      "Aeroport : NYC\n"
     ]
    }
   ],
   "source": [
    "for codi_aeroport in llista_codi_aeroport:\n",
    "    print (\"Aeroport : \" + codi_aeroport )"
   ]
  },
  {
   "cell_type": "markdown",
   "metadata": {
    "slideshow": {
     "slide_type": "subslide"
    }
   },
   "source": [
    "Podeu fer llistes que a dins continguin llistes també:"
   ]
  },
  {
   "cell_type": "code",
   "execution_count": 113,
   "metadata": {
    "slideshow": {
     "slide_type": "fragment"
    }
   },
   "outputs": [
    {
     "name": "stdout",
     "output_type": "stream",
     "text": [
      "(BCN)  Barcelona\n",
      "(MAD)  Madrid\n",
      "(NYC)  Nova York\n"
     ]
    }
   ],
   "source": [
    "aeroports = [[\"BCN\",\"Barcelona\"], [\"MAD\",\"Madrid\"], [\"NYC\",\"Nova York\"] ]\n",
    "for aeroport in aeroports:\n",
    "     print ( \"(\" + aeroport[0] + \")  \" + aeroport[1]  )  \n",
    "\n"
   ]
  },
  {
   "cell_type": "markdown",
   "metadata": {
    "slideshow": {
     "slide_type": "subslide"
    }
   },
   "source": [
    "FUNCIONS\n",
    "=========\n",
    "\n",
    "Les funcions són peces de codi reutilitzables. Amb les funcions pots donar nom a un bloc de sentències de tal manera que pots cridar aquesta funció des d'on vulguis, tants cops com vulguis.  En Python les funcions es declaren amb la sentència **def:**\n",
    "\n",
    "Opcionalment se'ls hi pot passar arguments (paràmetres). Aquests arguments són variables que es defineixen a l'hora de cridar la funció i es poden usar dins de les instruccions de la funció. Els paràmetres es passen a continuació del nom de al funció, entre parèntesis i  separats per comes.\n",
    "\n",
    "Quan es crida a una funció se'ls ha de passar el mateix nombre de paràmetres i per l'ordre correcte en el quals s'han declarat. Es pot fer que un paràmetre prengui un valor per defecte i per tant no calgui que s'inclogui en la crida, per fer això només cal assignar un valor en aquell paràmetre en la declaració de la funció. Això sí, tots els paràmetres opcionals han d'anar al final de la declaració de la funció.\n",
    "\n",
    "Les funcions poden o no retornar un valor en finalitzar-se. Quan no retornen cap valor se les anomena procediments (simplement executen instruccions sense retornar res). Per retornar un valor en Python, al final de la funció ha d'haver-hi una sentència **return**.\n",
    "\n",
    "En cas de retornar un valor, aquest es pot recuperar mitjançant una variable assignada a la crida de la funció o com a paràmetre d'una altra funció.\n"
   ]
  },
  {
   "cell_type": "code",
   "execution_count": 132,
   "metadata": {
    "slideshow": {
     "slide_type": "fragment"
    }
   },
   "outputs": [
    {
     "name": "stdout",
     "output_type": "stream",
     "text": [
      "L'Aeroport de Barcelona (El Prat) es troba TANCAT\n",
      "La temperatura ambient és de 30 graus celsius\n",
      "\n",
      "\n",
      "L'Aeroport de Barcelona (El Prat) es troba OBERT\n",
      "Us trobeu a la Terminal 1 de l'Aeroport de Barcelona (El Prat)\n",
      "La temperatura ambient és de 77.0 graus farenheit\n",
      "\n",
      "\n"
     ]
    }
   ],
   "source": [
    "def info_aeroport(obert,graus,graus_tipus='celsius'):\n",
    "    missatgeEstat = \"L'Aeroport de \" + nom_aeroport + \" es troba \"\n",
    "\n",
    "    if obert:  #si obert és cert s'executarà el bloc\n",
    "        print (missatgeEstat + \"OBERT\") #Atenció amb l'identació!\n",
    "        print (\"Us trobeu a la Terminal \" + str(numTerminal) + \" de l'Aeroport de \" + nom_aeroport)\n",
    "    else: #si obert és cert s'executarà el bloc\n",
    "        print (missatgeEstat + \"TANCAT\")    \n",
    "    print (\"La temperatura ambient és de \"+ str(graus) + \" graus \" + graus_tipus ) #s'executarà tant si és obert com tancat\n",
    "    print(\"\\n\")\n",
    "    \n",
    "def celsius_to_faren(graus):\n",
    "    return (graus * (9/5.))  + 32  # Atenció a fer la divisió sencera o coma flotant    \n",
    "\n",
    "info_aeroport(False,30)\n",
    "\n",
    "info_aeroport(True, celsius_to_faren(25),'farenheit')\n",
    "\n",
    "\n",
    "    "
   ]
  },
  {
   "cell_type": "markdown",
   "metadata": {
    "slideshow": {
     "slide_type": "subslide"
    }
   },
   "source": [
    "Entrada de dades de l'usuari\n",
    "============================\n",
    "\n",
    "Per interactuar amb un usuari de forma senzilla ho podem fer via linia de comandes. En Python es fa servir la funció **raw_input**  *(en python 2.7)* per a recollir dades de l'usuari. Per executar un codi que demani una entrada per pantalla no ho podreu fer des de l'editor. Haureu de fer-ho des de la línia de comandes. Escriviu les següents línies en el vostre codi de `aeroport.py` i executeu el programa\n",
    "\n",
    "\n",
    "> `python aeroport.py`\n"
   ]
  },
  {
   "cell_type": "code",
   "execution_count": 137,
   "metadata": {
    "slideshow": {
     "slide_type": "fragment"
    }
   },
   "outputs": [
    {
     "name": "stdout",
     "output_type": "stream",
     "text": [
      "Introdueixi el vostre nom: Eloi\n",
      "Benvingut Eloi\n",
      "L'Aeroport de Barcelona (El Prat) es troba OBERT\n",
      "Us trobeu a la Terminal 1 de l'Aeroport de Barcelona (El Prat)\n",
      "La temperatura ambient és de 30 graus celsius\n",
      "\n",
      "\n"
     ]
    }
   ],
   "source": [
    "def benvinguda():\n",
    "    \n",
    "    return raw_input(\"Introdueixi el vostre nom: \")\n",
    "\n",
    "print (\"Benvingut \" + benvinguda()) \n",
    "info_aeroport(True,30)\n"
   ]
  },
  {
   "cell_type": "markdown",
   "metadata": {
    "slideshow": {
     "slide_type": "subslide"
    }
   },
   "source": [
    "Resoldre Problemes \n",
    "================\n",
    "\n",
    "Fins ara hem vist els elements més bàsics per començar a programar, però la part més important de la programació és l'algorísmica, és a dir, descompondre un problema concret i real que tinguem en instruccions que la màquina pugui entendre.\n",
    "\n",
    "Per posar en pràctica els nostres coneixements farem un torneig al CodeFights!\n",
    "\n",
    "entreu a  https://codefights.com/  i entreu-hi.\n",
    "\n"
   ]
  },
  {
   "cell_type": "markdown",
   "metadata": {
    "slideshow": {
     "slide_type": "subslide"
    }
   },
   "source": [
    "Algunes ajudes per solucionar els exercicis:\n",
    "\n",
    " Un String es pot veure com a una llista de caràcters i per tant es pot iterar:"
   ]
  },
  {
   "cell_type": "code",
   "execution_count": 146,
   "metadata": {
    "slideshow": {
     "slide_type": "fragment"
    }
   },
   "outputs": [
    {
     "name": "stdout",
     "output_type": "stream",
     "text": [
      "H\n",
      "o\n",
      "l\n",
      "a\n",
      " \n",
      "b\n",
      "o\n",
      "n\n",
      " \n",
      "d\n",
      "i\n",
      "a\n"
     ]
    }
   ],
   "source": [
    "string = \"Hola bon dia\"\n",
    "for i in string :\n",
    "    print i"
   ]
  },
  {
   "cell_type": "markdown",
   "metadata": {
    "slideshow": {
     "slide_type": "subslide"
    }
   },
   "source": [
    "   Podeu convertir els caràcters en nombres per així poder-hi operar. És util per quan voleu passar d'una seqüencia de números a una de lletres"
   ]
  },
  {
   "cell_type": "code",
   "execution_count": 156,
   "metadata": {
    "slideshow": {
     "slide_type": "fragment"
    }
   },
   "outputs": [
    {
     "name": "stdout",
     "output_type": "stream",
     "text": [
      "BCD\n"
     ]
    }
   ],
   "source": [
    "string_entrada = \"ABC\"\n",
    "string_sortida = \"\"\n",
    "for i in string :\n",
    "     string_sortida += (chr(ord(i)+1)) #amb ord passem de caràcter a número (ascii) #amb chr de número ascii a caràcter.\n",
    "print string_sortida"
   ]
  },
  {
   "cell_type": "markdown",
   "metadata": {
    "slideshow": {
     "slide_type": "subslide"
    }
   },
   "source": [
    "   Podeu comprovar si un caràcter és o no un digit amb el mètode `isdigit()` sobre un caràcter"
   ]
  },
  {
   "cell_type": "code",
   "execution_count": 162,
   "metadata": {
    "slideshow": {
     "slide_type": "fragment"
    }
   },
   "outputs": [
    {
     "name": "stdout",
     "output_type": "stream",
     "text": [
      "1 és digit!\n"
     ]
    }
   ],
   "source": [
    "string_entrada = \"A1B\"\n",
    "\n",
    "for i in string_entrada : \n",
    "    if i.isdigit():\n",
    "        print i + \" és digit!\""
   ]
  }
 ],
 "metadata": {
  "kernelspec": {
   "display_name": "Python 3",
   "language": "python",
   "name": "python3"
  },
  "language_info": {
   "codemirror_mode": {
    "name": "ipython",
    "version": 3
   },
   "file_extension": ".py",
   "mimetype": "text/x-python",
   "name": "python",
   "nbconvert_exporter": "python",
   "pygments_lexer": "ipython3",
   "version": "3.6.9"
  }
 },
 "nbformat": 4,
 "nbformat_minor": 1
}
